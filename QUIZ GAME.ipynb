{
 "cells": [
  {
   "cell_type": "code",
   "execution_count": null,
   "id": "9e6249c7",
   "metadata": {},
   "outputs": [
    {
     "name": "stdout",
     "output_type": "stream",
     "text": [
      "----------------------\n",
      "How many elements are in the periodic table?: \n",
      "A. 116\n",
      "B. 117\n",
      "C. 118\n",
      "D. 119\n",
      "Enter (A, B, C, D): A\n",
      "INCORRECT!\n",
      "C is the correct answer\n",
      "----------------------\n",
      "Which animal lays the largest eggs?: \n",
      "A. Whale\n",
      "B. Crocodile\n",
      "C. Elephant\n",
      "D. Ostrich\n",
      "Enter (A, B, C, D): B\n",
      "INCORRECT!\n",
      "D is the correct answer\n",
      "----------------------\n",
      "What is the most abundant gas in Earth's atmosphere?: \n",
      "A. Nitrogen\n",
      "B. Oxygen\n",
      "C. Carbon-Dioxide\n",
      "D. Hydrogen\n"
     ]
    }
   ],
   "source": [
    "questions = (\"How many elements are in the periodic table?: \",\n",
    "                       \"Which animal lays the largest eggs?: \",\n",
    "                       \"What is the most abundant gas in Earth's atmosphere?: \",\n",
    "                       \"How many bones are in the human body?: \",\n",
    "                       \"Which planet in the solar system is the hottest?: \")\n",
    "\n",
    "options = ((\"A. 116\", \"B. 117\", \"C. 118\", \"D. 119\"),\n",
    "                   (\"A. Whale\", \"B. Crocodile\", \"C. Elephant\", \"D. Ostrich\"),\n",
    "                   (\"A. Nitrogen\", \"B. Oxygen\", \"C. Carbon-Dioxide\", \"D. Hydrogen\"),\n",
    "                   (\"A. 206\", \"B. 207\", \"C. 208\", \"D. 209\"),\n",
    "                   (\"A. Mercury\", \"B. Venus\", \"C. Earth\", \"D. Mars\"))\n",
    "\n",
    "answers = (\"C\", \"D\", \"A\", \"A\", \"B\")\n",
    "guesses = []\n",
    "score = 0\n",
    "question_num = 0\n",
    "\n",
    "for question in questions:\n",
    "    print(\"----------------------\")\n",
    "    print(question)\n",
    "    for option in options[question_num]:\n",
    "        print(option)\n",
    "\n",
    "    guess = input(\"Enter (A, B, C, D): \").upper()\n",
    "    guesses.append(guess)\n",
    "    if guess == answers[question_num]:\n",
    "        score += 1\n",
    "        print(\"CORRECT!\")\n",
    "    else:\n",
    "        print(\"INCORRECT!\")\n",
    "        print(f\"{answers[question_num]} is the correct answer\")\n",
    "    question_num += 1\n",
    "\n",
    "print(\"----------------------\")\n",
    "print(\"       RESULTS        \")\n",
    "print(\"----------------------\")\n",
    "\n",
    "print(\"answers: \", end=\"\")\n",
    "for answer in answers:\n",
    "    print(answer, end=\" \")\n",
    "print()\n",
    "\n",
    "print(\"guesses: \", end=\"\")\n",
    "for guess in guesses:\n",
    "    print(guess, end=\" \")\n",
    "print()\n",
    "\n",
    "score = int(score / len(questions) * 100)\n",
    "print(f\"Your score is: {score}%\")"
   ]
  },
  {
   "cell_type": "code",
   "execution_count": null,
   "id": "b24ee375",
   "metadata": {},
   "outputs": [],
   "source": []
  }
 ],
 "metadata": {
  "kernelspec": {
   "display_name": "Python 3 (ipykernel)",
   "language": "python",
   "name": "python3"
  },
  "language_info": {
   "codemirror_mode": {
    "name": "ipython",
    "version": 3
   },
   "file_extension": ".py",
   "mimetype": "text/x-python",
   "name": "python",
   "nbconvert_exporter": "python",
   "pygments_lexer": "ipython3",
   "version": "3.10.9"
  }
 },
 "nbformat": 4,
 "nbformat_minor": 5
}
